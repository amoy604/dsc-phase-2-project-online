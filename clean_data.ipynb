{
 "cells": [
  {
   "cell_type": "markdown",
   "metadata": {},
   "source": [
    "## Final Project Submission\n",
    "\n",
    "Please fill out:\n",
    "* Student name: Andrew J Moy\n",
    "* Student pace: self paced / part time / full time: Full Time\n",
    "* Scheduled project review date/time: \n",
    "* Instructor name: Rafael Carrasco\n",
    "* Blog post URL:\n"
   ]
  },
  {
   "cell_type": "code",
   "execution_count": 1,
   "metadata": {},
   "outputs": [],
   "source": [
    "from custom_func import *"
   ]
  },
  {
   "cell_type": "code",
   "execution_count": 2,
   "metadata": {},
   "outputs": [],
   "source": [
    "df= pd.read_csv('/Users/andrewmoy/Documents/Flatiron/Course/dsc-phase-2-project-online/data/kc_house_data.csv')"
   ]
  },
  {
   "cell_type": "code",
   "execution_count": 3,
   "metadata": {},
   "outputs": [],
   "source": [
    "df['yr_renovated'].fillna(0, inplace=True)\n",
    "df['view'].fillna(0, inplace=True)\n",
    "df['waterfront'].fillna(0, inplace=True)\n",
    "df = df.replace('?',0)\n",
    "#0 null values"
   ]
  },
  {
   "cell_type": "code",
   "execution_count": 4,
   "metadata": {},
   "outputs": [],
   "source": [
    "df = df.drop(df.loc[df['price'] > np.mean(df['price']) + (2 * np.std(df['price']))].index)\n",
    "#removing outliers"
   ]
  },
  {
   "cell_type": "code",
   "execution_count": 5,
   "metadata": {},
   "outputs": [],
   "source": [
    "#df['price_log'] = df['price'].map(lambda x: np.log(x))\n",
    "df['sqft_living_log'] = df['sqft_living'].map(lambda x: np.log(x))\n",
    "df['sqft_living15_log'] = df['sqft_living15'].map(lambda x: np.log(x))\n",
    "df['sqft_above_log'] = df['sqft_above'].map(lambda x: np.log(x))\n",
    "#log transformations for normality"
   ]
  },
  {
   "cell_type": "code",
   "execution_count": 6,
   "metadata": {},
   "outputs": [],
   "source": [
    "df['renovated'] = df['yr_renovated'].map(lambda x: 1 if x > 0 else 0)\n",
    "renovated_df = df[df['renovated']==1] \n",
    "non_renovated_df = df[df['renovated']==0]\n",
    "df['bed_bath'] = df['bedrooms'] + df['bathrooms']\n",
    "#add extra features"
   ]
  },
  {
   "cell_type": "code",
   "execution_count": 7,
   "metadata": {},
   "outputs": [],
   "source": [
    "view_dum = pd.get_dummies(df['view'], prefix='view')\n",
    "df = pd.concat([df, view_dum], axis=1)\n",
    "grade_dum = pd.get_dummies(df['grade'], prefix='grade')\n",
    "df = pd.concat([df, grade_dum], axis=1)\n",
    "condition_dum = pd.get_dummies(df['condition'], prefix='condition')\n",
    "df = pd.concat([df, condition_dum], axis=1)\n",
    "#add dummy values"
   ]
  },
  {
   "cell_type": "code",
   "execution_count": 8,
   "metadata": {},
   "outputs": [
    {
     "name": "stdout",
     "output_type": "stream",
     "text": [
      "id\n",
      "date\n",
      "price\n",
      "bedrooms\n",
      "bathrooms\n",
      "sqft_living\n",
      "sqft_lot\n",
      "floors\n",
      "waterfront\n",
      "view\n",
      "condition\n",
      "grade\n",
      "sqft_above\n",
      "sqft_basement\n",
      "yr_built\n",
      "yr_renovated\n",
      "zipcode\n",
      "lat\n",
      "long\n",
      "sqft_living15\n",
      "sqft_lot15\n",
      "sqft_living_log\n",
      "sqft_living15_log\n",
      "sqft_above_log\n",
      "renovated\n",
      "bed_bath\n",
      "view_0.0\n",
      "view_1.0\n",
      "view_2.0\n",
      "view_3.0\n",
      "view_4.0\n",
      "grade_3\n",
      "grade_4\n",
      "grade_5\n",
      "grade_6\n",
      "grade_7\n",
      "grade_8\n",
      "grade_9\n",
      "grade_10\n",
      "grade_11\n",
      "grade_12\n",
      "condition_1\n",
      "condition_2\n",
      "condition_3\n",
      "condition_4\n",
      "condition_5\n"
     ]
    }
   ],
   "source": [
    "for col in df.columns:\n",
    "    print(col)"
   ]
  },
  {
   "cell_type": "code",
   "execution_count": 9,
   "metadata": {},
   "outputs": [
    {
     "data": {
      "text/plain": [
       "<matplotlib.axes._subplots.AxesSubplot at 0x7fbb6d525fd0>"
      ]
     },
     "execution_count": 9,
     "metadata": {},
     "output_type": "execute_result"
    },
    {
     "data": {
      "image/png": "[encoded data removed]",
      "text/plain": [
       "<Figure size 432x288 with 1 Axes>"
      ]
     },
     "metadata": {
      "needs_background": "light"
     },
     "output_type": "display_data"
    }
   ],
   "source": [
    "sns.distplot(df.price)"
   ]
  },
  {
   "cell_type": "code",
   "execution_count": 10,
   "metadata": {},
   "outputs": [],
   "source": [
    "df.to_csv('/Users/andrewmoy/Documents/Flatiron/Course/dsc-phase-2-project-online/clean_data.csv')"
   ]
  },
  {
   "cell_type": "code",
   "execution_count": null,
   "metadata": {},
   "outputs": [],
   "source": []
  }
 ],
 "metadata": {
  "kernelspec": {
   "display_name": "Python 3",
   "language": "python",
   "name": "python3"
  },
  "language_info": {
   "codemirror_mode": {
    "name": "ipython",
    "version": 3
   },
   "file_extension": ".py",
   "mimetype": "text/x-python",
   "name": "python",
   "nbconvert_exporter": "python",
   "pygments_lexer": "ipython3",
   "version": "3.7.6"
  }
 },
 "nbformat": 4,
 "nbformat_minor": 2
}
